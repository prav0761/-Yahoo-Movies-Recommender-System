{
  "cells": [
    {
      "cell_type": "code",
      "execution_count": 1,
      "metadata": {
        "colab": {
          "base_uri": "https://localhost:8080/"
        },
        "id": "R4jCFmJb-hir",
        "outputId": "921b4842-a6d8-4171-93cd-1fe88c6d779e"
      },
      "outputs": [
        {
          "output_type": "stream",
          "name": "stdout",
          "text": [
            "Mounted at /content/gdrive/\n"
          ]
        }
      ],
      "source": [
        "from google.colab import drive\n",
        "\n",
        "drive.mount('/content/gdrive/', force_remount=True)\n",
        "import pandas as pd\n",
        "import numpy as np\n",
        "import matplotlib.pyplot as plt\n",
        "%matplotlib inline\n",
        "import pandas as pd\n",
        "import numpy as np\n",
        "import matplotlib.pyplot as plt\n",
        "import missingno as msno\n",
        "import seaborn as sns\n",
        "from scipy.stats import norm, skew \n",
        "from scipy import stats\n",
        "from datetime import datetime\n",
        "import scipy.stats\n",
        "from sklearn.metrics.pairwise import cosine_similarity\n",
        "\n",
        "#pip install git+https://github.com/gbolmier/funk-svd\n",
        "\n",
        "import time\n"
      ]
    },
    {
      "cell_type": "code",
      "source": [
        "%cd gdrive\n",
        "%cd MyDrive\n",
        "%cd Colab Notebooks\n",
        "%cd BPMF"
      ],
      "metadata": {
        "colab": {
          "base_uri": "https://localhost:8080/"
        },
        "id": "RA_ZlqC--ycz",
        "outputId": "197c9adb-fe9e-4146-ec05-97ae3b266ec4"
      },
      "execution_count": 2,
      "outputs": [
        {
          "output_type": "stream",
          "name": "stdout",
          "text": [
            "/content/gdrive\n",
            "/content/gdrive/MyDrive\n",
            "/content/gdrive/MyDrive/Colab Notebooks\n",
            "/content/gdrive/MyDrive/Colab Notebooks/BPMF\n"
          ]
        }
      ]
    },
    {
      "cell_type": "code",
      "execution_count": 3,
      "metadata": {
        "id": "5besarCv-hiv"
      },
      "outputs": [],
      "source": [
        "df=pd.read_csv(r'ydata-ymovies-user-movie-ratings-train-v1_0.txt.gz',sep='\\t',compression='gzip',encoding='latin-1',header=None)\n",
        "df_test=pd.read_csv(r'ydata-ymovies-user-movie-ratings-test-v1_0.txt.gz',sep='\\t',compression='gzip',encoding='latin-1',header=None)\n"
      ]
    },
    {
      "cell_type": "code",
      "execution_count": 4,
      "metadata": {
        "id": "NhG8y503-hiw"
      },
      "outputs": [],
      "source": [
        "#df1=reduce_mem_usage(df)\n",
        "#df_test1=reduce_mem_usage(df_test)\n",
        "df.rename(columns={0: 'u_id', 1: 'i_id',3:'rating'},inplace=True)\n",
        "df.drop(2,axis='columns',inplace=True)\n",
        "df_test.rename(columns={0: 'u_id', 1: 'i_id',3:'rating'},inplace=True)\n",
        "df_test.drop(2,axis='columns',inplace=True)"
      ]
    },
    {
      "cell_type": "code",
      "execution_count": null,
      "metadata": {
        "colab": {
          "base_uri": "https://localhost:8080/",
          "height": 206
        },
        "id": "FBwmcRQ1-hix",
        "outputId": "58a273f3-405e-4c4c-902c-562c6a9f8766"
      },
      "outputs": [
        {
          "output_type": "execute_result",
          "data": {
            "text/plain": [
              "   u_id        i_id  rating\n",
              "0     1  1800029049       5\n",
              "1     1  1804857429       4\n",
              "2     1  1800030906       5\n",
              "3     1  1800018548       5\n",
              "4     1  1800256362       4"
            ],
            "text/html": [
              "\n",
              "  <div id=\"df-c02d2549-db09-40dd-80d7-f32bb1b6a196\">\n",
              "    <div class=\"colab-df-container\">\n",
              "      <div>\n",
              "<style scoped>\n",
              "    .dataframe tbody tr th:only-of-type {\n",
              "        vertical-align: middle;\n",
              "    }\n",
              "\n",
              "    .dataframe tbody tr th {\n",
              "        vertical-align: top;\n",
              "    }\n",
              "\n",
              "    .dataframe thead th {\n",
              "        text-align: right;\n",
              "    }\n",
              "</style>\n",
              "<table border=\"1\" class=\"dataframe\">\n",
              "  <thead>\n",
              "    <tr style=\"text-align: right;\">\n",
              "      <th></th>\n",
              "      <th>u_id</th>\n",
              "      <th>i_id</th>\n",
              "      <th>rating</th>\n",
              "    </tr>\n",
              "  </thead>\n",
              "  <tbody>\n",
              "    <tr>\n",
              "      <th>0</th>\n",
              "      <td>1</td>\n",
              "      <td>1800029049</td>\n",
              "      <td>5</td>\n",
              "    </tr>\n",
              "    <tr>\n",
              "      <th>1</th>\n",
              "      <td>1</td>\n",
              "      <td>1804857429</td>\n",
              "      <td>4</td>\n",
              "    </tr>\n",
              "    <tr>\n",
              "      <th>2</th>\n",
              "      <td>1</td>\n",
              "      <td>1800030906</td>\n",
              "      <td>5</td>\n",
              "    </tr>\n",
              "    <tr>\n",
              "      <th>3</th>\n",
              "      <td>1</td>\n",
              "      <td>1800018548</td>\n",
              "      <td>5</td>\n",
              "    </tr>\n",
              "    <tr>\n",
              "      <th>4</th>\n",
              "      <td>1</td>\n",
              "      <td>1800256362</td>\n",
              "      <td>4</td>\n",
              "    </tr>\n",
              "  </tbody>\n",
              "</table>\n",
              "</div>\n",
              "      <button class=\"colab-df-convert\" onclick=\"convertToInteractive('df-c02d2549-db09-40dd-80d7-f32bb1b6a196')\"\n",
              "              title=\"Convert this dataframe to an interactive table.\"\n",
              "              style=\"display:none;\">\n",
              "        \n",
              "  <svg xmlns=\"http://www.w3.org/2000/svg\" height=\"24px\"viewBox=\"0 0 24 24\"\n",
              "       width=\"24px\">\n",
              "    <path d=\"M0 0h24v24H0V0z\" fill=\"none\"/>\n",
              "    <path d=\"M18.56 5.44l.94 2.06.94-2.06 2.06-.94-2.06-.94-.94-2.06-.94 2.06-2.06.94zm-11 1L8.5 8.5l.94-2.06 2.06-.94-2.06-.94L8.5 2.5l-.94 2.06-2.06.94zm10 10l.94 2.06.94-2.06 2.06-.94-2.06-.94-.94-2.06-.94 2.06-2.06.94z\"/><path d=\"M17.41 7.96l-1.37-1.37c-.4-.4-.92-.59-1.43-.59-.52 0-1.04.2-1.43.59L10.3 9.45l-7.72 7.72c-.78.78-.78 2.05 0 2.83L4 21.41c.39.39.9.59 1.41.59.51 0 1.02-.2 1.41-.59l7.78-7.78 2.81-2.81c.8-.78.8-2.07 0-2.86zM5.41 20L4 18.59l7.72-7.72 1.47 1.35L5.41 20z\"/>\n",
              "  </svg>\n",
              "      </button>\n",
              "      \n",
              "  <style>\n",
              "    .colab-df-container {\n",
              "      display:flex;\n",
              "      flex-wrap:wrap;\n",
              "      gap: 12px;\n",
              "    }\n",
              "\n",
              "    .colab-df-convert {\n",
              "      background-color: #E8F0FE;\n",
              "      border: none;\n",
              "      border-radius: 50%;\n",
              "      cursor: pointer;\n",
              "      display: none;\n",
              "      fill: #1967D2;\n",
              "      height: 32px;\n",
              "      padding: 0 0 0 0;\n",
              "      width: 32px;\n",
              "    }\n",
              "\n",
              "    .colab-df-convert:hover {\n",
              "      background-color: #E2EBFA;\n",
              "      box-shadow: 0px 1px 2px rgba(60, 64, 67, 0.3), 0px 1px 3px 1px rgba(60, 64, 67, 0.15);\n",
              "      fill: #174EA6;\n",
              "    }\n",
              "\n",
              "    [theme=dark] .colab-df-convert {\n",
              "      background-color: #3B4455;\n",
              "      fill: #D2E3FC;\n",
              "    }\n",
              "\n",
              "    [theme=dark] .colab-df-convert:hover {\n",
              "      background-color: #434B5C;\n",
              "      box-shadow: 0px 1px 3px 1px rgba(0, 0, 0, 0.15);\n",
              "      filter: drop-shadow(0px 1px 2px rgba(0, 0, 0, 0.3));\n",
              "      fill: #FFFFFF;\n",
              "    }\n",
              "  </style>\n",
              "\n",
              "      <script>\n",
              "        const buttonEl =\n",
              "          document.querySelector('#df-c02d2549-db09-40dd-80d7-f32bb1b6a196 button.colab-df-convert');\n",
              "        buttonEl.style.display =\n",
              "          google.colab.kernel.accessAllowed ? 'block' : 'none';\n",
              "\n",
              "        async function convertToInteractive(key) {\n",
              "          const element = document.querySelector('#df-c02d2549-db09-40dd-80d7-f32bb1b6a196');\n",
              "          const dataTable =\n",
              "            await google.colab.kernel.invokeFunction('convertToInteractive',\n",
              "                                                     [key], {});\n",
              "          if (!dataTable) return;\n",
              "\n",
              "          const docLinkHtml = 'Like what you see? Visit the ' +\n",
              "            '<a target=\"_blank\" href=https://colab.research.google.com/notebooks/data_table.ipynb>data table notebook</a>'\n",
              "            + ' to learn more about interactive tables.';\n",
              "          element.innerHTML = '';\n",
              "          dataTable['output_type'] = 'display_data';\n",
              "          await google.colab.output.renderOutput(dataTable, element);\n",
              "          const docLink = document.createElement('div');\n",
              "          docLink.innerHTML = docLinkHtml;\n",
              "          element.appendChild(docLink);\n",
              "        }\n",
              "      </script>\n",
              "    </div>\n",
              "  </div>\n",
              "  "
            ]
          },
          "metadata": {},
          "execution_count": 6
        }
      ],
      "source": [
        "df.head()"
      ]
    },
    {
      "cell_type": "code",
      "execution_count": 5,
      "metadata": {
        "id": "jiaUjnCU-hix"
      },
      "outputs": [],
      "source": [
        "\n",
        "# source - https://github.com/gbolmier/funk-svd/tree/master/funk_svd( my contribution little modificatins and additional mappings)\n",
        "\n",
        "def _preprocess_data(X):\n",
        "\n",
        "        X = X.copy()\n",
        "        #X_test=X_test.copy()\n",
        " # Mappings have to be created\n",
        "        #X.sort_values(by=[)\n",
        "        user_ids = X['u_id'].unique().tolist()\n",
        "        item_ids = X['i_id'].unique().tolist()\n",
        "\n",
        "        n_users = len(user_ids)\n",
        "        n_items = len(item_ids)\n",
        "\n",
        "        user_idx = range(n_users)\n",
        "        item_idx = range(n_items)\n",
        "\n",
        "        user_mapping_ = dict(zip(user_ids, user_idx))\n",
        "        item_mapping_ = dict(zip(item_ids, item_idx))\n",
        "\n",
        "        X['u_id'] = X['u_id'].map(user_mapping_)\n",
        "        X['i_id'] = X['i_id'].map(item_mapping_)\n",
        "        #X_test['u_MAP'] = X_test['u_id'].map(user_mapping_)\n",
        "        #X_test['i_MAP'] = X_test['i_id'].map(item_mapping_)\n",
        "\n",
        "        # Tag validation set unknown users/items with -1 (enables\n",
        "        # `fast_methods._compute_val_metrics` detecting them)\n",
        "        X.fillna(-1, inplace=True)\n",
        "        #X_test.fillna(-1, inplace=True)\n",
        "        X['u_id'] = X['u_id'].astype(np.int32)\n",
        "        X['i_id'] = X['i_id'].astype(np.int32)\n",
        "        #X_test['u_id'] = X_test['u_id'].astype(np.int32)\n",
        "        #X_test['i_id'] = X_test['i_id'].astype(np.int32)\n",
        "        return X[['u_id','i_id','rating']].values,user_mapping_,item_mapping_"
      ]
    },
    {
      "cell_type": "code",
      "execution_count": null,
      "metadata": {
        "id": "h0z3M67R-hiy",
        "colab": {
          "base_uri": "https://localhost:8080/",
          "height": 123
        },
        "outputId": "606dc456-50e7-441e-8df4-7271d0d689e5"
      },
      "outputs": [
        {
          "output_type": "execute_result",
          "data": {
            "text/plain": [
              "'\\ndef validation_rmse_n(global_mean1,b_user,b_item,P,V,test_data,user_map,item_map):\\n    error=[]\\n    test_globalmean=test_data[:,2].sum()/test_data.shape[0]\\n    for i in range(test_data.shape[0]):\\n        user,item,rating= user_map[test_data[i,0]],item_map[test_data[i,1]],int(test_data[i,2])\\n        pred=test_globalmean+b_user[user]+b_item[item]+np.dot(P[user,:],V[:,item])\\n        error.append(rating-pred)\\n    residuals=np.array(error)\\n    loss= np.square(residuals).mean()\\n    rmse =loss\\n    return rmse\\n\\ndef training_rmse_n(global_mean1,b_user,b_item,P,V,training_data,user_map,item_map):\\n    error=[]\\n    for i in range(training_data.shape[0]):\\n        user,item,rating= training_data[i,0],training_data[i,1],training_data[i,2]\\n        pred=global_mean1+b_user[user]+b_item[item]+np.dot(P[user,:],V[:,item])\\n        error.append(rating-pred)\\n    residuals=np.array(error)\\n    loss= np.square(residuals).mean()\\n    rmse = loss\\n    return rmse\\n\\nclass rec():\\n    def __init__(self,train,learning_rate,features,beta,iterations,test,max_rating,min_rating):\\n        self.training_data,self.user_map,self.item_map=_preprocess_data(train)\\n        self.test=np.array(df_test)\\n        users_count = len(np.unique(self.training_data[:, 0]))\\n        items_count = len(np.unique(self.training_data[:, 1]))\\n        self.b_user = np.zeros(users_count)\\n        self.b_item = np.zeros(items_count)\\n        self.features=features\\n        self.learning_rate=learning_rate\\n        self.iterations=iterations\\n        self.beta=beta\\n        self.P=np.random.normal(0,0.1,(users_count, self.features))\\n        self.V=np.random.normal(0,0.1,(self.features,items_count))\\n        self.b=self.training_data[:,2].sum()/self.training_data.shape[0]\\n        self.max_rating=max_rating\\n        self.min_rating=min_rating\\n    \\n    def run_sgd(self):\\n\\n        np.random.shuffle(self.training_data)\\n        for i in range(self.training_data.shape[0]):\\n            user,item,rating=int(self.training_data[i,0]),int(self.training_data[i,1]),int(self.training_data[i,2])\\n            pred_rating=self.b+self.b_user[user]+self.b_item[item] + np.dot(self.P[user,:],self.V[:,item])\\n            error = rating - pred_rating\\n            old_user=self.b_user[user]\\n            old_item=self.b_item[item]\\n            self.b_user[user]=self.b_user[user]+self.learning_rate*(error - self.beta*old_user)\\n            self.b_item[item]=self.b_item[item]+self.learning_rate*(error - self.beta*old_item)\\n\\n            #lasso regularization l2\\n\\n            old_pi=self.P[user,:]\\n            old_vi=self.V[:,item]\\n            self.P[user,:]=self.P[user,:]+self.learning_rate*(error*old_vi - self.beta*old_pi)\\n            self.V[:,item]=self.V[:,item]+self.learning_rate*(error*old_pi - self.beta*old_vi)\\n\\n    def train(self):\\n        for i in range(self.iterations):\\n            start = time.time()\\n            self.run_sgd()\\n            if (i+1) % 1 == 0:\\n                val_rmse=validation_rmse_n(self.b,self.b_user,self.b_item,self.P,self.V,self.test,self.user_map,self.item_map)\\n                train_rmse=training_rmse_n(self.b,self.b_user,self.b_item,self.P,self.V,self.training_data,self.user_map,self.item_map)                \\n                end = time.time()\\n                print(\"Iteration: %d ;train_MSE =%.4f ;  val_MSE = %.4f ; time=%.4f\" % (i+1,train_rmse, val_rmse,(end-start)))\\n                \\n                \\n    def full_matrix(self):\\n        return self.b + self.b_user.reshape(-1,1) + self.b_item.reshape(1,-1)+ np.dot(self.P,self.V)\\n    \\n    \\n    def clip_predict(self,actual_Rat):\\n        if actual_Rat>self.max_rating:\\n            pred=self.max_rating\\n        else:\\n            pred=self.actual_Rat\\n        if actual_Rat<self.min_rating:\\n            pred=self.min_rating\\n        else:\\n            pred=actual_Rat\\n        return pred\\n\\n    def predict_user_movie(self,data_type,dataframe,user,item,clip=True):\\n        if data_type==\\'test\\':\\n            s=np.array(dataframe)\\n            test_globalmean=s[:,2].sum()/s.shape[0]\\n            if user in self.user_map and item in self.item_map:   \\n                user1,item1=self.user_map[user],self.item_map[item]\\n                self.actual_Rat=test_globalmean+ self.b_user[user1]+ self.b_item[item1]+np.dot(self.P[user1,:],self.V[:,item1])\\n                if clip is True:\\n                    return self.clip_predict(self.actual_Rat)\\n            else:\\n                print(\\'user or item not known, the avg rating is\\')\\n                return test_globalmean\\n        elif data_type==\\'train\\':\\n                user1,item1=self.user_map[user],self.item_map[item]\\n                self.actual_Rat= self.b+ self.b_user[user1]+ self.b_item[item1]+np.dot(self.P[user1,:],self.V[:,item1])\\n                if clip is True:\\n                    return self.clip_predict(self.actual_Rat)\\n\\n            \\n    \\n    def predict_dataset(self,dataframe):\\n            rating=[]\\n            d=np.array(dataframe)\\n            for i in d.shape[0]:\\n                user,item=d[i,0].d[i,2]\\n                rating.append(self.predict_user_movie(\\'test\\',dataframe,user,item,clip=True))\\n                '"
            ],
            "application/vnd.google.colaboratory.intrinsic+json": {
              "type": "string"
            }
          },
          "metadata": {},
          "execution_count": 22
        }
      ],
      "source": [
        "\"\"\"\n",
        "def validation_rmse_n(global_mean1,b_user,b_item,P,V,test_data,user_map,item_map):\n",
        "    error=[]\n",
        "    test_globalmean=test_data[:,2].sum()/test_data.shape[0]\n",
        "    for i in range(test_data.shape[0]):\n",
        "        user,item,rating= user_map[test_data[i,0]],item_map[test_data[i,1]],int(test_data[i,2])\n",
        "        pred=test_globalmean+b_user[user]+b_item[item]+np.dot(P[user,:],V[:,item])\n",
        "        error.append(rating-pred)\n",
        "    residuals=np.array(error)\n",
        "    loss= np.square(residuals).mean()\n",
        "    rmse =loss\n",
        "    return rmse\n",
        "\n",
        "def training_rmse_n(global_mean1,b_user,b_item,P,V,training_data,user_map,item_map):\n",
        "    error=[]\n",
        "    for i in range(training_data.shape[0]):\n",
        "        user,item,rating= training_data[i,0],training_data[i,1],training_data[i,2]\n",
        "        pred=global_mean1+b_user[user]+b_item[item]+np.dot(P[user,:],V[:,item])\n",
        "        error.append(rating-pred)\n",
        "    residuals=np.array(error)\n",
        "    loss= np.square(residuals).mean()\n",
        "    rmse = loss\n",
        "    return rmse\n",
        "\n",
        "class rec():\n",
        "    def __init__(self,train,learning_rate,features,beta,iterations,test,max_rating,min_rating):\n",
        "        self.training_data,self.user_map,self.item_map=_preprocess_data(train)\n",
        "        self.test=np.array(df_test)\n",
        "        users_count = len(np.unique(self.training_data[:, 0]))\n",
        "        items_count = len(np.unique(self.training_data[:, 1]))\n",
        "        self.b_user = np.zeros(users_count)\n",
        "        self.b_item = np.zeros(items_count)\n",
        "        self.features=features\n",
        "        self.learning_rate=learning_rate\n",
        "        self.iterations=iterations\n",
        "        self.beta=beta\n",
        "        self.P=np.random.normal(0,0.1,(users_count, self.features))\n",
        "        self.V=np.random.normal(0,0.1,(self.features,items_count))\n",
        "        self.b=self.training_data[:,2].sum()/self.training_data.shape[0]\n",
        "        self.max_rating=max_rating\n",
        "        self.min_rating=min_rating\n",
        "    \n",
        "    def run_sgd(self):\n",
        "\n",
        "        np.random.shuffle(self.training_data)\n",
        "        for i in range(self.training_data.shape[0]):\n",
        "            user,item,rating=int(self.training_data[i,0]),int(self.training_data[i,1]),int(self.training_data[i,2])\n",
        "            pred_rating=self.b+self.b_user[user]+self.b_item[item] + np.dot(self.P[user,:],self.V[:,item])\n",
        "            error = rating - pred_rating\n",
        "            old_user=self.b_user[user]\n",
        "            old_item=self.b_item[item]\n",
        "            self.b_user[user]=self.b_user[user]+self.learning_rate*(error - self.beta*old_user)\n",
        "            self.b_item[item]=self.b_item[item]+self.learning_rate*(error - self.beta*old_item)\n",
        "\n",
        "            #lasso regularization l2\n",
        "\n",
        "            old_pi=self.P[user,:]\n",
        "            old_vi=self.V[:,item]\n",
        "            self.P[user,:]=self.P[user,:]+self.learning_rate*(error*old_vi - self.beta*old_pi)\n",
        "            self.V[:,item]=self.V[:,item]+self.learning_rate*(error*old_pi - self.beta*old_vi)\n",
        "\n",
        "    def train(self):\n",
        "        for i in range(self.iterations):\n",
        "            start = time.time()\n",
        "            self.run_sgd()\n",
        "            if (i+1) % 1 == 0:\n",
        "                val_rmse=validation_rmse_n(self.b,self.b_user,self.b_item,self.P,self.V,self.test,self.user_map,self.item_map)\n",
        "                train_rmse=training_rmse_n(self.b,self.b_user,self.b_item,self.P,self.V,self.training_data,self.user_map,self.item_map)                \n",
        "                end = time.time()\n",
        "                print(\"Iteration: %d ;train_MSE =%.4f ;  val_MSE = %.4f ; time=%.4f\" % (i+1,train_rmse, val_rmse,(end-start)))\n",
        "                \n",
        "                \n",
        "    def full_matrix(self):\n",
        "        return self.b + self.b_user.reshape(-1,1) + self.b_item.reshape(1,-1)+ np.dot(self.P,self.V)\n",
        "    \n",
        "    \n",
        "    def clip_predict(self,actual_Rat):\n",
        "        if actual_Rat>self.max_rating:\n",
        "            pred=self.max_rating\n",
        "        else:\n",
        "            pred=self.actual_Rat\n",
        "        if actual_Rat<self.min_rating:\n",
        "            pred=self.min_rating\n",
        "        else:\n",
        "            pred=actual_Rat\n",
        "        return pred\n",
        "\n",
        "    def predict_user_movie(self,data_type,dataframe,user,item,clip=True):\n",
        "        if data_type=='test':\n",
        "            s=np.array(dataframe)\n",
        "            test_globalmean=s[:,2].sum()/s.shape[0]\n",
        "            if user in self.user_map and item in self.item_map:   \n",
        "                user1,item1=self.user_map[user],self.item_map[item]\n",
        "                self.actual_Rat=test_globalmean+ self.b_user[user1]+ self.b_item[item1]+np.dot(self.P[user1,:],self.V[:,item1])\n",
        "                if clip is True:\n",
        "                    return self.clip_predict(self.actual_Rat)\n",
        "            else:\n",
        "                print('user or item not known, the avg rating is')\n",
        "                return test_globalmean\n",
        "        elif data_type=='train':\n",
        "                user1,item1=self.user_map[user],self.item_map[item]\n",
        "                self.actual_Rat= self.b+ self.b_user[user1]+ self.b_item[item1]+np.dot(self.P[user1,:],self.V[:,item1])\n",
        "                if clip is True:\n",
        "                    return self.clip_predict(self.actual_Rat)\n",
        "\n",
        "            \n",
        "    \n",
        "    def predict_dataset(self,dataframe):\n",
        "            rating=[]\n",
        "            d=np.array(dataframe)\n",
        "            for i in d.shape[0]:\n",
        "                user,item=d[i,0].d[i,2]\n",
        "                rating.append(self.predict_user_movie('test',dataframe,user,item,clip=True))\n",
        "                \"\"\"\n",
        "            "
      ]
    },
    {
      "cell_type": "code",
      "execution_count": 51,
      "metadata": {
        "id": "eysEn5F8-hiz"
      },
      "outputs": [],
      "source": [
        "def validation_rmse(globalmean,P,V,test_data,user_map,item_map):\n",
        "    error=[]\n",
        "    for i in range(test_data.shape[0]):\n",
        "        user,item,rating= user_map[test_data[i,0]],item_map[test_data[i,1]],int(test_data[i,2])\n",
        "        pred=np.dot(P[user,:],V[:,item])\n",
        "        error.append(rating-pred)\n",
        "    residuals=np.array(error)\n",
        "    loss= np.square(residuals).mean()\n",
        "    rmse =loss\n",
        "    return rmse\n",
        "\n",
        "def training_rmse(globalmean,P,V,training_data,user_map,item_map):\n",
        "    error=[]\n",
        "    for i in range(training_data.shape[0]):\n",
        "        user,item,rating= training_data[i,0],training_data[i,1],training_data[i,2]\n",
        "        pred= np.dot(P[user,:],V[:,item])\n",
        "        error.append(rating-pred)\n",
        "    residuals=np.array(error)\n",
        "    loss= np.square(residuals).mean()\n",
        "    rmse = loss\n",
        "    return rmse\n",
        "\n",
        "class vanillarec():\n",
        "    def __init__(self,train,learning_rate,features,iterations,test,max_rating,min_rating):\n",
        "        self.training_data,self.user_map,self.item_map=_preprocess_data(train)\n",
        "        self.test=np.array(df_test)\n",
        "        users_count = len(np.unique(self.training_data[:, 0]))\n",
        "        items_count = len(np.unique(self.training_data[:, 1]))\n",
        "        self.features=features\n",
        "        self.learning_rate=learning_rate\n",
        "        self.iterations=iterations\n",
        "        self.P=np.random.normal(0,0.1,(users_count, self.features))\n",
        "        self.V=np.random.normal(0,0.1,(self.features,items_count))\n",
        "        self.max_rating=max_rating\n",
        "        self.min_rating=min_rating\n",
        "        self.b=self.training_data[:,2].sum()/self.training_data.shape[0]\n",
        "    \n",
        "    def run_sgd(self):\n",
        "\n",
        "        np.random.shuffle(self.training_data)\n",
        "        for i in range(self.training_data.shape[0]):\n",
        "            user,item,rating=int(self.training_data[i,0]),int(self.training_data[i,1]),int(self.training_data[i,2])\n",
        "            pred_rating= np.dot(self.P[user,:],self.V[:,item])\n",
        "            error = rating - pred_rating\n",
        "\n",
        "            #lasso regularization l2\n",
        "\n",
        "            old_pi=self.P[user,:]\n",
        "            old_vi=self.V[:,item]\n",
        "            self.P[user,:]=self.P[user,:]+self.learning_rate*(error*old_vi)\n",
        "            self.V[:,item]=self.V[:,item]+self.learning_rate*(error*old_pi )\n",
        "\n",
        "    def train(self):\n",
        "        self.trainloss=[]\n",
        "        self.valloss=[]\n",
        "        for i in range(self.iterations):\n",
        "            start = time.time()\n",
        "            self.run_sgd()\n",
        "            if (i+1) % 1 == 0:\n",
        "                val_mse=validation_rmse(self.b,self.P,self.V,self.test,self.user_map,self.item_map)\n",
        "                self.valloss.append(val_mse)\n",
        "                train_mse=training_rmse(self.b,self.P,self.V,self.training_data,self.user_map,self.item_map)                \n",
        "                self.trainloss.append(train_mse)\n",
        "                end = time.time()\n",
        "                print(\"Iteration: %d ;train_MSE =%.4f ;  val_MSE = %.4f ; time=%.4f\" % (i+1,train_mse, val_mse,(end-start)))\n",
        "                plt.plot(self.valloss,label='val_loss')\n",
        "                plt.plot(self.trainloss,color='blue',label='train_loss')\n",
        "                plt.xlabel('epochs')\n",
        "                plt.ylabel('MSE')\n",
        "                #plt.legend()\n",
        "                \n",
        "    def full_matrix(self):\n",
        "        return self.b + np.dot(self.P,self.V)\n",
        "    \n",
        "    \n",
        "    def clip_predict(self,actual_Rat):\n",
        "        if actual_Rat>self.max_rating:\n",
        "            pred=self.max_rating\n",
        "        else:\n",
        "            pred=self.actual_Rat\n",
        "        if actual_Rat<self.min_rating:\n",
        "            pred=self.min_rating\n",
        "        else:\n",
        "            pred=actual_Rat\n",
        "        return pred\n",
        "\n",
        "    def predict_user_movie(self,data_type,dataframe,user,item,clip=True):\n",
        "        if data_type=='test':\n",
        "            s=np.array(dataframe)\n",
        "            test_globalmean=s[:,2].sum()/s.shape[0]\n",
        "            if user in self.user_map and item in self.item_map:   \n",
        "                user1,item1=self.user_map[user],self.item_map[item]\n",
        "                self.actual_Rat=test_globalmean+ self.b_user[user1]+ self.b_item[item1]+np.dot(self.P[user1,:],self.V[:,item1])\n",
        "                if clip is True:\n",
        "                    return self.clip_predict(self.actual_Rat)\n",
        "            else:\n",
        "                print('user or item not known, the avg rating is')\n",
        "                return test_globalmean\n",
        "        elif data_type=='train':\n",
        "                user1,item1=self.user_map[user],self.item_map[item]\n",
        "                self.actual_Rat= self.b+ self.b_user[user1]+ self.b_item[item1]+np.dot(self.P[user1,:],self.V[:,item1])\n",
        "                if clip is True:\n",
        "                    return self.clip_predict(self.actual_Rat)\n",
        "\n",
        "            \n",
        "    \n",
        "    def predict_dataset(self,dataframe):\n",
        "            rating=[]\n",
        "            d=np.array(dataframe)\n",
        "            for i in d.shape[0]:\n",
        "                user,item=d[i,0].d[i,2]\n",
        "                rating.append(self.predict_user_movie('test',dataframe,user,item,clip=True))"
      ]
    },
    {
      "cell_type": "code",
      "source": [
        "#Rec1=rec(train=df,  learning_rate=0.001,  features=15,beta=0.005,iterations=200,test=df_test,\n",
        "       #max_rating=5,min_rating=1)\n"
      ],
      "metadata": {
        "id": "vh6dMSgTORjn"
      },
      "execution_count": null,
      "outputs": []
    },
    {
      "cell_type": "code",
      "source": [
        "#Rec1.train()"
      ],
      "metadata": {
        "id": "ZFV_GBvxOTf7"
      },
      "execution_count": null,
      "outputs": []
    },
    {
      "cell_type": "code",
      "execution_count": 52,
      "metadata": {
        "id": "fxwd-DSP-hiz"
      },
      "outputs": [],
      "source": [
        "Rec_v=vanillarec(train=df,  learning_rate=0.001,  features=15,iterations=20,test=df_test,\n",
        "       max_rating=5,min_rating=1)\n"
      ]
    },
    {
      "cell_type": "code",
      "execution_count": 53,
      "metadata": {
        "colab": {
          "base_uri": "https://localhost:8080/",
          "height": 626
        },
        "id": "BzNmFHRH-hi0",
        "outputId": "58d3610e-4070-4687-bca3-1eb385ca0ec7"
      },
      "outputs": [
        {
          "output_type": "stream",
          "name": "stdout",
          "text": [
            "Iteration: 1 ;train_MSE =18.1797 ;  val_MSE = 18.4119 ; time=4.3085\n",
            "Iteration: 2 ;train_MSE =18.1645 ;  val_MSE = 18.4113 ; time=4.2942\n",
            "Iteration: 3 ;train_MSE =18.1338 ;  val_MSE = 18.4058 ; time=4.1857\n",
            "Iteration: 4 ;train_MSE =18.0484 ;  val_MSE = 18.3801 ; time=4.3278\n",
            "Iteration: 5 ;train_MSE =17.7734 ;  val_MSE = 18.2777 ; time=4.2873\n",
            "Iteration: 6 ;train_MSE =16.9315 ;  val_MSE = 17.9215 ; time=4.5431\n",
            "Iteration: 7 ;train_MSE =15.0775 ;  val_MSE = 17.0095 ; time=4.2608\n",
            "Iteration: 8 ;train_MSE =12.8088 ;  val_MSE = 15.5848 ; time=4.4682\n",
            "Iteration: 9 ;train_MSE =10.9765 ;  val_MSE = 14.1040 ; time=4.1879\n",
            "Iteration: 10 ;train_MSE =9.5602 ;  val_MSE = 12.7700 ; time=4.2532\n",
            "Iteration: 11 ;train_MSE =8.4277 ;  val_MSE = 11.6161 ; time=4.1133\n",
            "Iteration: 12 ;train_MSE =7.4990 ;  val_MSE = 10.6236 ; time=4.3284\n",
            "Iteration: 13 ;train_MSE =6.7306 ;  val_MSE = 9.7818 ; time=4.1900\n",
            "Iteration: 14 ;train_MSE =6.0911 ;  val_MSE = 9.0638 ; time=4.3011\n",
            "Iteration: 15 ;train_MSE =5.5568 ;  val_MSE = 8.4489 ; time=4.2088\n",
            "Iteration: 16 ;train_MSE =5.1081 ;  val_MSE = 7.9226 ; time=4.3056\n",
            "Iteration: 17 ;train_MSE =4.7289 ;  val_MSE = 7.4669 ; time=7.2377\n",
            "Iteration: 18 ;train_MSE =4.4058 ;  val_MSE = 7.0707 ; time=4.4314\n",
            "Iteration: 19 ;train_MSE =4.1285 ;  val_MSE = 6.7255 ; time=4.1710\n",
            "Iteration: 20 ;train_MSE =3.8883 ;  val_MSE = 6.4211 ; time=4.2410\n"
          ]
        },
        {
          "output_type": "display_data",
          "data": {
            "text/plain": [
              "<Figure size 432x288 with 1 Axes>"
            ],
            "image/png": "[encoded data removed]"
          },
          "metadata": {
            "needs_background": "light"
          }
        }
      ],
      "source": [
        "Rec_v.train()"
      ]
    },
    {
      "cell_type": "markdown",
      "metadata": {
        "id": "qPxdBIYH-hi1"
      },
      "source": []
    },
    {
      "cell_type": "code",
      "execution_count": null,
      "metadata": {
        "id": "-DOZ1G95-hi2",
        "outputId": "c95fc70f-4990-4a7d-d347-f877d9f416d6"
      },
      "outputs": [
        {
          "name": "stdout",
          "output_type": "stream",
          "text": [
            "Preprocessing data...\n",
            "\n",
            "Preprocessing data...\n",
            "\n",
            "Epoch 1/100  | val_loss: 1.31 - val_rmse: 1.14 - val_mae: 0.87 - took 0.1 sec\n",
            "Epoch 2/100  | val_loss: 1.25 - val_rmse: 1.12 - val_mae: 0.85 - took 0.0 sec\n",
            "Epoch 3/100  | val_loss: 1.21 - val_rmse: 1.10 - val_mae: 0.83 - took 0.0 sec\n",
            "Epoch 4/100  | val_loss: 1.18 - val_rmse: 1.09 - val_mae: 0.82 - took 0.0 sec\n",
            "Epoch 5/100  | val_loss: 1.16 - val_rmse: 1.08 - val_mae: 0.81 - took 0.0 sec\n",
            "Epoch 6/100  | val_loss: 1.14 - val_rmse: 1.07 - val_mae: 0.81 - took 0.0 sec\n",
            "Epoch 7/100  | val_loss: 1.13 - val_rmse: 1.06 - val_mae: 0.80 - took 0.0 sec\n",
            "Epoch 8/100  | val_loss: 1.11 - val_rmse: 1.06 - val_mae: 0.79 - took 0.0 sec\n",
            "Epoch 9/100  | val_loss: 1.10 - val_rmse: 1.05 - val_mae: 0.79 - took 0.0 sec\n",
            "Epoch 10/100 | val_loss: 1.09 - val_rmse: 1.04 - val_mae: 0.78 - took 0.0 sec\n",
            "Epoch 11/100 | val_loss: 1.08 - val_rmse: 1.04 - val_mae: 0.78 - took 0.0 sec\n",
            "Epoch 12/100 | val_loss: 1.07 - val_rmse: 1.04 - val_mae: 0.77 - took 0.0 sec\n",
            "Epoch 13/100 | val_loss: 1.06 - val_rmse: 1.03 - val_mae: 0.77 - took 0.0 sec\n",
            "Epoch 14/100 | val_loss: 1.06 - val_rmse: 1.03 - val_mae: 0.77 - took 0.0 sec\n",
            "Epoch 15/100 | val_loss: 1.05 - val_rmse: 1.02 - val_mae: 0.76 - took 0.0 sec\n",
            "Epoch 16/100 | val_loss: 1.04 - val_rmse: 1.02 - val_mae: 0.76 - took 0.0 sec\n",
            "Epoch 17/100 | val_loss: 1.03 - val_rmse: 1.02 - val_mae: 0.76 - took 0.0 sec\n",
            "Epoch 18/100 | val_loss: 1.03 - val_rmse: 1.01 - val_mae: 0.75 - took 0.0 sec\n",
            "Epoch 19/100 | val_loss: 1.02 - val_rmse: 1.01 - val_mae: 0.75 - took 0.0 sec\n",
            "Epoch 20/100 | val_loss: 1.02 - val_rmse: 1.01 - val_mae: 0.75 - took 0.0 sec\n",
            "Epoch 21/100 | val_loss: 1.01 - val_rmse: 1.01 - val_mae: 0.75 - took 0.0 sec\n",
            "Epoch 22/100 | val_loss: 1.01 - val_rmse: 1.00 - val_mae: 0.74 - took 0.0 sec\n",
            "Epoch 23/100 | val_loss: 1.00 - val_rmse: 1.00 - val_mae: 0.74 - took 0.0 sec\n",
            "Epoch 24/100 | val_loss: 1.00 - val_rmse: 1.00 - val_mae: 0.74 - took 0.0 sec\n",
            "Epoch 25/100 | val_loss: 0.99 - val_rmse: 1.00 - val_mae: 0.74 - took 0.0 sec\n",
            "Epoch 26/100 | val_loss: 0.99 - val_rmse: 0.99 - val_mae: 0.74 - took 0.0 sec\n",
            "Epoch 27/100 | val_loss: 0.98 - val_rmse: 0.99 - val_mae: 0.73 - took 0.0 sec\n",
            "Epoch 28/100 | val_loss: 0.98 - val_rmse: 0.99 - val_mae: 0.73 - took 0.0 sec\n",
            "Epoch 29/100 | val_loss: 0.98 - val_rmse: 0.99 - val_mae: 0.73 - took 0.0 sec\n",
            "Epoch 30/100 | val_loss: 0.97 - val_rmse: 0.99 - val_mae: 0.73 - took 0.0 sec\n",
            "Epoch 31/100 | val_loss: 0.97 - val_rmse: 0.98 - val_mae: 0.73 - took 0.0 sec\n",
            "Epoch 32/100 | val_loss: 0.96 - val_rmse: 0.98 - val_mae: 0.73 - took 0.0 sec\n",
            "Epoch 33/100 | val_loss: 0.96 - val_rmse: 0.98 - val_mae: 0.72 - took 0.0 sec\n",
            "Epoch 34/100 | val_loss: 0.96 - val_rmse: 0.98 - val_mae: 0.72 - took 0.0 sec\n",
            "Epoch 35/100 | val_loss: 0.95 - val_rmse: 0.98 - val_mae: 0.72 - took 0.0 sec\n",
            "Epoch 36/100 | val_loss: 0.95 - val_rmse: 0.97 - val_mae: 0.72 - took 0.0 sec\n",
            "Epoch 37/100 | val_loss: 0.95 - val_rmse: 0.97 - val_mae: 0.72 - took 0.0 sec\n",
            "Epoch 38/100 | val_loss: 0.94 - val_rmse: 0.97 - val_mae: 0.72 - took 0.0 sec\n",
            "Epoch 39/100 | val_loss: 0.94 - val_rmse: 0.97 - val_mae: 0.71 - took 0.0 sec\n",
            "Epoch 40/100 | val_loss: 0.94 - val_rmse: 0.97 - val_mae: 0.71 - took 0.0 sec\n",
            "Epoch 41/100 | val_loss: 0.93 - val_rmse: 0.97 - val_mae: 0.71 - took 0.0 sec\n",
            "Epoch 42/100 | val_loss: 0.93 - val_rmse: 0.96 - val_mae: 0.71 - took 0.0 sec\n",
            "Epoch 43/100 | val_loss: 0.93 - val_rmse: 0.96 - val_mae: 0.71 - took 0.0 sec\n",
            "Epoch 44/100 | val_loss: 0.92 - val_rmse: 0.96 - val_mae: 0.71 - took 0.0 sec\n",
            "Epoch 45/100 | val_loss: 0.92 - val_rmse: 0.96 - val_mae: 0.70 - took 0.0 sec\n",
            "Epoch 46/100 | val_loss: 0.91 - val_rmse: 0.96 - val_mae: 0.70 - took 0.0 sec\n",
            "Epoch 47/100 | val_loss: 0.91 - val_rmse: 0.95 - val_mae: 0.70 - took 0.0 sec\n",
            "Epoch 48/100 | val_loss: 0.91 - val_rmse: 0.95 - val_mae: 0.70 - took 0.0 sec\n",
            "Epoch 49/100 | val_loss: 0.90 - val_rmse: 0.95 - val_mae: 0.70 - took 0.0 sec\n",
            "Epoch 50/100 | val_loss: 0.90 - val_rmse: 0.95 - val_mae: 0.70 - took 0.0 sec\n",
            "Epoch 51/100 | val_loss: 0.89 - val_rmse: 0.95 - val_mae: 0.69 - took 0.0 sec\n",
            "Epoch 52/100 | val_loss: 0.89 - val_rmse: 0.94 - val_mae: 0.69 - took 0.0 sec\n",
            "Epoch 53/100 | val_loss: 0.89 - val_rmse: 0.94 - val_mae: 0.69 - took 0.0 sec\n",
            "Epoch 54/100 | val_loss: 0.88 - val_rmse: 0.94 - val_mae: 0.69 - took 0.0 sec\n",
            "Epoch 55/100 | val_loss: 0.88 - val_rmse: 0.94 - val_mae: 0.69 - took 0.0 sec\n",
            "Epoch 56/100 | val_loss: 0.87 - val_rmse: 0.93 - val_mae: 0.69 - took 0.0 sec\n",
            "Epoch 57/100 | val_loss: 0.87 - val_rmse: 0.93 - val_mae: 0.68 - took 0.0 sec\n",
            "Epoch 58/100 | val_loss: 0.86 - val_rmse: 0.93 - val_mae: 0.68 - took 0.0 sec\n",
            "Epoch 59/100 | val_loss: 0.86 - val_rmse: 0.93 - val_mae: 0.68 - took 0.0 sec\n",
            "Epoch 60/100 | val_loss: 0.85 - val_rmse: 0.92 - val_mae: 0.68 - took 0.0 sec\n",
            "Epoch 61/100 | val_loss: 0.85 - val_rmse: 0.92 - val_mae: 0.68 - took 0.0 sec\n",
            "Epoch 62/100 | val_loss: 0.84 - val_rmse: 0.92 - val_mae: 0.67 - took 0.0 sec\n",
            "Epoch 63/100 | val_loss: 0.84 - val_rmse: 0.92 - val_mae: 0.67 - took 0.0 sec\n",
            "Epoch 64/100 | val_loss: 0.83 - val_rmse: 0.91 - val_mae: 0.67 - took 0.0 sec\n",
            "Epoch 65/100 | val_loss: 0.83 - val_rmse: 0.91 - val_mae: 0.67 - took 0.0 sec\n",
            "Epoch 66/100 | val_loss: 0.82 - val_rmse: 0.91 - val_mae: 0.66 - took 0.0 sec\n",
            "Epoch 67/100 | val_loss: 0.82 - val_rmse: 0.90 - val_mae: 0.66 - took 0.0 sec\n",
            "Epoch 68/100 | val_loss: 0.81 - val_rmse: 0.90 - val_mae: 0.66 - took 0.0 sec\n",
            "Epoch 69/100 | val_loss: 0.81 - val_rmse: 0.90 - val_mae: 0.66 - took 0.0 sec\n",
            "Epoch 70/100 | val_loss: 0.80 - val_rmse: 0.90 - val_mae: 0.66 - took 0.0 sec\n",
            "Epoch 71/100 | val_loss: 0.80 - val_rmse: 0.89 - val_mae: 0.65 - took 0.0 sec\n",
            "Epoch 72/100 | val_loss: 0.79 - val_rmse: 0.89 - val_mae: 0.65 - took 0.0 sec\n",
            "Epoch 73/100 | val_loss: 0.79 - val_rmse: 0.89 - val_mae: 0.65 - took 0.0 sec\n",
            "Epoch 74/100 | val_loss: 0.78 - val_rmse: 0.88 - val_mae: 0.65 - took 0.0 sec\n",
            "Epoch 75/100 | val_loss: 0.78 - val_rmse: 0.88 - val_mae: 0.64 - took 0.0 sec\n",
            "Epoch 76/100 | val_loss: 0.77 - val_rmse: 0.88 - val_mae: 0.64 - took 0.0 sec\n",
            "Epoch 77/100 | val_loss: 0.76 - val_rmse: 0.87 - val_mae: 0.64 - took 0.0 sec\n",
            "Epoch 78/100 | val_loss: 0.76 - val_rmse: 0.87 - val_mae: 0.64 - took 0.0 sec\n",
            "Epoch 79/100 | val_loss: 0.75 - val_rmse: 0.87 - val_mae: 0.63 - took 0.0 sec\n",
            "Epoch 80/100 | val_loss: 0.75 - val_rmse: 0.87 - val_mae: 0.63 - took 0.0 sec\n",
            "Epoch 81/100 | val_loss: 0.74 - val_rmse: 0.86 - val_mae: 0.63 - took 0.0 sec\n",
            "Epoch 82/100 | val_loss: 0.74 - val_rmse: 0.86 - val_mae: 0.63 - took 0.0 sec\n",
            "Epoch 83/100 | val_loss: 0.73 - val_rmse: 0.86 - val_mae: 0.62 - took 0.0 sec\n",
            "Epoch 84/100 | val_loss: 0.73 - val_rmse: 0.85 - val_mae: 0.62 - took 0.0 sec\n",
            "Epoch 85/100 | val_loss: 0.72 - val_rmse: 0.85 - val_mae: 0.62 - took 0.0 sec\n",
            "Epoch 86/100 | val_loss: 0.72 - val_rmse: 0.85 - val_mae: 0.62 - took 0.0 sec\n",
            "Epoch 87/100 | val_loss: 0.71 - val_rmse: 0.84 - val_mae: 0.61 - took 0.0 sec\n",
            "Epoch 88/100 | val_loss: 0.71 - val_rmse: 0.84 - val_mae: 0.61 - took 0.0 sec\n",
            "Epoch 89/100 | val_loss: 0.70 - val_rmse: 0.84 - val_mae: 0.61 - took 0.0 sec\n",
            "Epoch 90/100 | val_loss: 0.70 - val_rmse: 0.84 - val_mae: 0.61 - took 0.0 sec\n",
            "Epoch 91/100 | val_loss: 0.69 - val_rmse: 0.83 - val_mae: 0.60 - took 0.0 sec\n",
            "Epoch 92/100 | val_loss: 0.69 - val_rmse: 0.83 - val_mae: 0.60 - took 0.0 sec\n",
            "Epoch 93/100 | val_loss: 0.68 - val_rmse: 0.83 - val_mae: 0.60 - took 0.0 sec\n",
            "Epoch 94/100 | val_loss: 0.68 - val_rmse: 0.82 - val_mae: 0.60 - took 0.0 sec\n",
            "Epoch 95/100 | val_loss: 0.67 - val_rmse: 0.82 - val_mae: 0.60 - took 0.0 sec\n",
            "Epoch 96/100 | val_loss: 0.67 - val_rmse: 0.82 - val_mae: 0.59 - took 0.0 sec\n",
            "Epoch 97/100 | val_loss: 0.66 - val_rmse: 0.82 - val_mae: 0.59 - took 0.0 sec\n",
            "Epoch 98/100 | val_loss: 0.66 - val_rmse: 0.81 - val_mae: 0.59 - took 0.0 sec\n",
            "Epoch 99/100 | val_loss: 0.66 - val_rmse: 0.81 - val_mae: 0.59 - took 0.0 sec\n",
            "Epoch 100/100 | val_loss: 0.65 - val_rmse: 0.81 - val_mae: 0.58 - took 0.0 sec\n",
            "\n",
            "Training took 3 sec\n"
          ]
        },
        {
          "data": {
            "text/plain": [
              "<funk_svd.svd.SVD at 0x2afed33b2198>"
            ]
          },
          "execution_count": 110,
          "metadata": {},
          "output_type": "execute_result"
        }
      ],
      "source": [
        "svd = SVD(lr=0.001, reg=0.005, n_epochs=100, n_factors=15,\n",
        "         early_stopping=True, shuffle=False, min_rating=1, max_rating=5)\n",
        "svd.fit(X=df, X_val=df)"
      ]
    },
    {
      "cell_type": "code",
      "execution_count": null,
      "metadata": {
        "id": "pTkjfZJS-hi3"
      },
      "outputs": [],
      "source": [
        "mf_real=MF(data=R, learning_rate=0.01,latent_features=3,beta=0.01,iterations=10)\n"
      ]
    },
    {
      "cell_type": "code",
      "execution_count": null,
      "metadata": {
        "id": "QGaQl_Mu-hi3"
      },
      "outputs": [],
      "source": [
        "mf_real.train()"
      ]
    },
    {
      "cell_type": "code",
      "execution_count": null,
      "metadata": {
        "id": "PGM3SEQQ-hi3"
      },
      "outputs": [],
      "source": [
        "mf_real.whole_matrix()"
      ]
    },
    {
      "cell_type": "code",
      "execution_count": null,
      "metadata": {
        "id": "PVlSjA4j-hi3"
      },
      "outputs": [],
      "source": [
        "4**2"
      ]
    },
    {
      "cell_type": "code",
      "execution_count": null,
      "metadata": {
        "id": "L7fY0gV5-hi4"
      },
      "outputs": [],
      "source": [
        "s=np.random.randint(low=1,high=2,size=(3,2))\n",
        "s1=np.random.uniform(low=5,high=20,size=(2,3))\n"
      ]
    },
    {
      "cell_type": "code",
      "execution_count": null,
      "metadata": {
        "id": "9giZxxSz-hi4"
      },
      "outputs": [],
      "source": [
        "s1"
      ]
    },
    {
      "cell_type": "code",
      "execution_count": null,
      "metadata": {
        "id": "-1-Ow6Vu-hi4"
      },
      "outputs": [],
      "source": [
        "s1[:,0]"
      ]
    },
    {
      "cell_type": "code",
      "execution_count": null,
      "metadata": {
        "id": "tafXE4C9-hi5"
      },
      "outputs": [],
      "source": [
        "s1[:,0][:]"
      ]
    },
    {
      "cell_type": "code",
      "execution_count": null,
      "metadata": {
        "id": "xtppNySW-hi5"
      },
      "outputs": [],
      "source": [
        "samples = [\n",
        "            (i, j, an[i, j])\n",
        "            for i in range(3)\n",
        "            for j in range(3)\n",
        "        ]\n",
        "samples"
      ]
    },
    {
      "cell_type": "code",
      "execution_count": null,
      "metadata": {
        "id": "a509lnzf-hi5"
      },
      "outputs": [],
      "source": [
        "np.sum((p-an)**2)"
      ]
    },
    {
      "cell_type": "code",
      "execution_count": null,
      "metadata": {
        "id": "W2id_Cfg-hi5"
      },
      "outputs": [],
      "source": [
        "an=np.matmul(s,s1)\n",
        "an"
      ]
    },
    {
      "cell_type": "code",
      "execution_count": null,
      "metadata": {
        "id": "AhUxOClr-hi5"
      },
      "outputs": [],
      "source": [
        "results = cross_validate(SVD(), data, measures=['RMSE'], cv=3, verbose=False)\n",
        "results"
      ]
    },
    {
      "cell_type": "code",
      "execution_count": null,
      "metadata": {
        "id": "n59i0vkg-hi5"
      },
      "outputs": [],
      "source": [
        "trainset = data.build_full_trainset()"
      ]
    },
    {
      "cell_type": "code",
      "execution_count": null,
      "metadata": {
        "id": "jY2mozXs-hi6"
      },
      "outputs": [],
      "source": [
        "algo = SVD(n_factors=10, n_epochs=10)\n",
        "model = algo.fit(trainset)\n",
        "accuracy.rmse(predictions)\n",
        "#pred = algo.predict(str(196) , str(302), r_ui=4, verbose=True)\n"
      ]
    },
    {
      "cell_type": "code",
      "execution_count": null,
      "metadata": {
        "id": "t5J7ZG-d-hi6"
      },
      "outputs": [],
      "source": [
        "#df_sample=df1[df1['anonymous_user_id'].isin(s['anonymous_user_id'])]\n",
        "#print(df_sample.shape)\n",
        "matrix = df.pivot_table(index='anonymous_user_id', columns='movie_id', values='converted_rating')\n",
        "print(matrix.shape)\n",
        "matrix.head()\n"
      ]
    },
    {
      "cell_type": "code",
      "execution_count": null,
      "metadata": {
        "id": "RK9hy0Ux-hi6"
      },
      "outputs": [],
      "source": [
        "user_similarity = matrix.T.corr()\n",
        "user_similarity"
      ]
    },
    {
      "cell_type": "code",
      "execution_count": null,
      "metadata": {
        "id": "OS9_28h1-hi6"
      },
      "outputs": [],
      "source": [
        "picked_userid = 5\n",
        "# Remove picked user ID from the candidate list\n",
        "user_similarity.drop(index=picked_userid, inplace=True)\n",
        "# Take a look at the data\n"
      ]
    },
    {
      "cell_type": "code",
      "execution_count": null,
      "metadata": {
        "id": "_HsFqkiq-hi6"
      },
      "outputs": [],
      "source": [
        "n = 10\n",
        "# User similarity threashold\n",
        "user_similarity_threshold = 0\n",
        "# Get top n similar users\n",
        "similar_users = user_similarity[user_similarity[picked_userid]>user_similarity_threshold][picked_userid].sort_values(ascending=False)[:n]\n",
        "# Print out top n similar users\n",
        "#print(f'The similar users for user {picked_userid} are', similar_users)\n",
        "similar_users"
      ]
    },
    {
      "cell_type": "code",
      "execution_count": null,
      "metadata": {
        "id": "OZ00BoY--hi7"
      },
      "outputs": [],
      "source": [
        "picked_userid_watched = matrix[matrix.index == picked_userid].dropna(axis=1, how='all')\n",
        "picked_userid_watched"
      ]
    },
    {
      "cell_type": "code",
      "execution_count": null,
      "metadata": {
        "id": "Y92Zd7RQ-hi7"
      },
      "outputs": [],
      "source": [
        "similar_user_movies = matrix[matrix.index.isin(similar_users.index)].dropna(axis=1, how='all')\n",
        "similar_user_movies"
      ]
    },
    {
      "cell_type": "code",
      "execution_count": null,
      "metadata": {
        "id": "hnx5DYJB-hi7"
      },
      "outputs": [],
      "source": [
        "similar_user_movies.drop(picked_userid_watched.columns,axis=1, inplace=True, errors='ignore')\n",
        "# Take a look at the data\n",
        "similar_user_movies"
      ]
    },
    {
      "cell_type": "code",
      "execution_count": null,
      "metadata": {
        "id": "mK4iWYZD-hi7"
      },
      "outputs": [],
      "source": [
        "item_score = {}\n",
        "for i in similar_user_movies.columns:\n",
        "    movie_rating = similar_user_movies[i]\n",
        "    total = 0\n",
        "    count = 0\n",
        "    for u in similar_users.index:\n",
        "        if pd.isna(movie_rating[u]) == False:\n",
        "            score = similar_users[u] * movie_rating[u]\n",
        "            total += score\n",
        "            count +=1\n",
        "    item_score[i] = total / count\n",
        "    \n"
      ]
    },
    {
      "cell_type": "code",
      "execution_count": null,
      "metadata": {
        "id": "Ez34_4oN-hi7"
      },
      "outputs": [],
      "source": [
        "item_score = pd.DataFrame(item_score.items(), columns=['movie', 'movie_score'])\n",
        "init_rating = item_score.sort_values(by='movie_score', ascending=False)\n",
        "# Select top m movies\n",
        "init_rating"
      ]
    },
    {
      "cell_type": "code",
      "execution_count": null,
      "metadata": {
        "id": "dcw23iR4-hi7"
      },
      "outputs": [],
      "source": [
        "avg_rating = matrix[matrix.index == picked_userid].T.mean()[picked_userid]\n",
        "init_rating['predicted_rating'] = init_rating['movie_score'] + avg_rating\n",
        "# Take a look at the data\n",
        "init_rating.head()\n"
      ]
    }
  ],
  "metadata": {
    "kernelspec": {
      "display_name": "Python 3",
      "language": "python",
      "name": "python3"
    },
    "language_info": {
      "codemirror_mode": {
        "name": "ipython",
        "version": 3
      },
      "file_extension": ".py",
      "mimetype": "text/x-python",
      "name": "python",
      "nbconvert_exporter": "python",
      "pygments_lexer": "ipython3",
      "version": "3.7.0"
    },
    "colab": {
      "provenance": []
    }
  },
  "nbformat": 4,
  "nbformat_minor": 0
}