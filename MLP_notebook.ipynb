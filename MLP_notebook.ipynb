{
  "nbformat": 4,
  "nbformat_minor": 0,
  "metadata": {
    "colab": {
      "provenance": []
    },
    "kernelspec": {
      "name": "python3",
      "display_name": "Python 3"
    },
    "language_info": {
      "name": "python"
    }
  },
  "cells": [
    {
      "cell_type": "code",
      "execution_count": 1,
      "metadata": {
        "id": "ElPTg7f_Oce6",
        "colab": {
          "base_uri": "https://localhost:8080/"
        },
        "outputId": "ae238377-7b41-421d-8722-96029c000497"
      },
      "outputs": [
        {
          "output_type": "stream",
          "name": "stdout",
          "text": [
            "Mounted at /content/gdrive/\n"
          ]
        }
      ],
      "source": [
        "from google.colab import drive\n",
        "\n",
        "drive.mount('/content/gdrive/', force_remount=True)\n",
        "import pandas as pd\n",
        "import numpy as np\n",
        "import matplotlib.pyplot as plt\n",
        "%matplotlib inline"
      ]
    },
    {
      "cell_type": "code",
      "source": [
        "!pip install -U -q git+https://github.com/sparsh-ai/recochef.git\n"
      ],
      "metadata": {
        "colab": {
          "base_uri": "https://localhost:8080/"
        },
        "id": "yVxUVAXcsFUy",
        "outputId": "fc12b2f7-7561-42e2-9e1c-6d1f2a238881"
      },
      "execution_count": 2,
      "outputs": [
        {
          "output_type": "stream",
          "name": "stdout",
          "text": [
            "  Installing build dependencies ... \u001b[?25l\u001b[?25hdone\n",
            "  Getting requirements to build wheel ... \u001b[?25l\u001b[?25hdone\n",
            "    Preparing wheel metadata ... \u001b[?25l\u001b[?25hdone\n"
          ]
        }
      ]
    },
    {
      "cell_type": "code",
      "source": [
        "%cd gdrive\n",
        "%cd MyDrive\n",
        "%cd Colab Notebooks\n",
        "%cd Rec_final\n",
        "%cd du\n",
        "!ls"
      ],
      "metadata": {
        "colab": {
          "base_uri": "https://localhost:8080/"
        },
        "id": "gbDKps9yPeh-",
        "outputId": "51bdf198-5d7a-4172-9c9a-b5b0600d6295"
      },
      "execution_count": 2,
      "outputs": [
        {
          "output_type": "stream",
          "name": "stdout",
          "text": [
            "/content/gdrive\n",
            "/content/gdrive/MyDrive\n",
            "/content/gdrive/MyDrive/Colab Notebooks\n",
            "/content/gdrive/MyDrive/Colab Notebooks/Rec_final\n",
            "/content/gdrive/MyDrive/Colab Notebooks/Rec_final/du\n",
            "'Copy of yahoo_movie_user-Copy1.ipynb'\n",
            " kjj\n",
            " Model.py\n",
            " pre_process.py\n",
            " __pycache__\n",
            " README.md\n",
            " reduce_size_df.py\n",
            " run_model.py\n",
            " Train_fn.py\n",
            " yahoo_movie_user-Copy1.ipynb\n",
            " ydata-ymovies-user-movie-ratings-test-v1_0.txt.gz\n",
            " ydata-ymovies-user-movie-ratings-train-v1_0.txt.gz\n"
          ]
        }
      ]
    },
    {
      "cell_type": "code",
      "source": [
        "import torch\n",
        "from torch import nn\n",
        "from torch import optim\n",
        "from torch.nn import functional as F \n",
        "from torch.optim.lr_scheduler import _LRScheduler\n",
        "\n",
        "from recochef.utils.iterators import batch_generator\n",
        "\n",
        "import math\n",
        "import copy\n",
        "import pickle\n",
        "import numpy as np\n",
        "import pandas as pd\n",
        "from textwrap import wrap\n",
        "from sklearn.decomposition import PCA\n",
        "from sklearn.model_selection import train_test_split\n",
        "\n",
        "import matplotlib.pyplot as plt\n",
        "plt.style.use('ggplot')\n",
        "from tqdm import tqdm\n",
        "import time\n",
        "from reduce_size_df import reduce_mem_usage\n",
        "from pre_process import _preprocess_data\n",
        "from Train_fn import train,validation\n",
        "from Model import MLP\n",
        "from run_model import run_epochs"
      ],
      "metadata": {
        "id": "A2L1NBXZLdKm"
      },
      "execution_count": 3,
      "outputs": []
    },
    {
      "cell_type": "code",
      "source": [
        "df=pd.read_csv(r'ydata-ymovies-user-movie-ratings-train-v1_0.txt.gz',sep='\\t',compression='gzip',encoding='latin-1',header=None)\n",
        "df_test=pd.read_csv(r'ydata-ymovies-user-movie-ratings-test-v1_0.txt.gz',sep='\\t',compression='gzip',encoding='latin-1',header=None)\n",
        "df=reduce_mem_usage(df)\n",
        "df_test=reduce_mem_usage(df_test)\n",
        "df.rename(columns={0: 'u_id', 1: 'i_id',3:'rating'},inplace=True)\n",
        "df_test.rename(columns={0: 'u_id', 1: 'i_id',3:'rating'},inplace=True)\n",
        "df_test.drop(2,axis='columns',inplace=True)\n",
        "df.drop(2,axis='columns',inplace=True)"
      ],
      "metadata": {
        "id": "p9s02bXaPkX-",
        "colab": {
          "base_uri": "https://localhost:8080/"
        },
        "outputId": "53fe381a-4b8e-49c1-d551-9bc6c19caa99"
      },
      "execution_count": 4,
      "outputs": [
        {
          "output_type": "stream",
          "name": "stdout",
          "text": [
            "Memory usage of dataframe is 6.45 MB\n",
            "Memory usage after optimization is: 1.61 MB\n",
            "Decreased by 75.0%\n",
            "Memory usage of dataframe is 0.31 MB\n",
            "Memory usage after optimization is: 0.08 MB\n",
            "Decreased by 75.0%\n"
          ]
        }
      ]
    },
    {
      "cell_type": "code",
      "source": [
        "ratings_df,user_map,item_map=_preprocess_data(df)\n",
        "df_test['u_id']=df_test['u_id'].map(user_map)\n",
        "df_test['i_id']=df_test['i_id'].map(item_map)\n"
      ],
      "metadata": {
        "id": "p3bm8TU1P3Yq"
      },
      "execution_count": 5,
      "outputs": []
    },
    {
      "cell_type": "code",
      "source": [
        "trainloss,valloss=run_epochs(features=1,hidden_sz=100,learning_rate=0.001,batch=256,epochs=100,patience=1,\n",
        "                             model_fn=MLP,training_data=ratings_df,testing_data=df_test)"
      ],
      "metadata": {
        "colab": {
          "base_uri": "https://localhost:8080/"
        },
        "id": "wJD6QKFvR2XZ",
        "outputId": "e9a6f41f-054a-4c87-b6d4-2c55b816728b"
      },
      "execution_count": 11,
      "outputs": [
        {
          "output_type": "stream",
          "name": "stdout",
          "text": [
            "Iteration: 1 ;train_MSE =2.1923 ;  val_MSE = 1.2354 ; time=3.9878\n",
            "Iteration: 2 ;train_MSE =1.3084 ;  val_MSE = 1.1207 ; time=3.4401\n",
            "Iteration: 3 ;train_MSE =1.1993 ;  val_MSE = 1.0595 ; time=3.3270\n",
            "Iteration: 4 ;train_MSE =1.1211 ;  val_MSE = 1.0275 ; time=3.4259\n",
            "Iteration: 5 ;train_MSE =1.0586 ;  val_MSE = 0.9901 ; time=3.4970\n",
            "Iteration: 6 ;train_MSE =1.0100 ;  val_MSE = 0.9793 ; time=3.4588\n",
            "Iteration: 7 ;train_MSE =0.9724 ;  val_MSE = 0.9754 ; time=3.4354\n",
            "Iteration: 8 ;train_MSE =0.9434 ;  val_MSE = 0.9558 ; time=3.4250\n",
            "Iteration: 9 ;train_MSE =0.9209 ;  val_MSE = 0.9539 ; time=3.5011\n",
            "Iteration: 10 ;train_MSE =0.9022 ;  val_MSE = 0.9544 ; time=3.4463\n"
          ]
        }
      ]
    },
    {
      "cell_type": "code",
      "source": [
        "#plt.plot(trainloss)\n",
        "plt.plot(valloss,color='blue',label='val_loss')\n",
        "plt.xlabel('epochs')\n",
        "plt.ylabel('MSE')\n",
        "plt.title('val_loss MSE')\n",
        "plt.plot(trainloss,label='train_loss')\n",
        "plt.legend()"
      ],
      "metadata": {
        "colab": {
          "base_uri": "https://localhost:8080/",
          "height": 316
        },
        "id": "0V7Oz676AT-n",
        "outputId": "501d70a3-0ae9-4112-bc47-d83363ad6e92"
      },
      "execution_count": 12,
      "outputs": [
        {
          "output_type": "execute_result",
          "data": {
            "text/plain": [
              "<matplotlib.legend.Legend at 0x7f8f36e1b610>"
            ]
          },
          "metadata": {},
          "execution_count": 12
        },
        {
          "output_type": "display_data",
          "data": {
            "text/plain": [
              "<Figure size 432x288 with 1 Axes>"
            ],
            "image/png": "[encoded data removed]"
          },
          "metadata": {}
        }
      ]
    },
    {
      "cell_type": "code",
      "source": [],
      "metadata": {
        "colab": {
          "base_uri": "https://localhost:8080/"
        },
        "id": "wYxJ-lMkd99D",
        "outputId": "97918e66-e8ec-41b9-ac9f-492e3d364e9b"
      },
      "execution_count": 14,
      "outputs": [
        {
          "output_type": "stream",
          "name": "stdout",
          "text": [
            "git: 'mkdir' is not a git command. See 'git --help'.\n"
          ]
        }
      ]
    },
    {
      "cell_type": "code",
      "source": [
        "n_epochs=10\n",
        "bs=64\n",
        "epoch_loss=0\n",
        "for epoch in range(n_epochs):\n",
        "    stats = {'epoch': epoch + 1, 'total': n_epochs}\n",
        "    \n",
        "    for phase in ('train', 'val'):\n",
        "        training = phase == 'train'\n",
        "        running_loss = 0.0\n",
        "        n_batches = 0\n",
        "        for batch in batch_generator(*datasets[phase], shuffle=training, bs=bs):\n",
        "            x_batch, rating = [b for b in batch]\n",
        "            with torch.set_grad_enabled(training):\n",
        "                optimizer.zero_grad()\n",
        "                prediction = model(x_batch[:, 0], x_batch[:, 1])\n",
        "                loss = loss_fn(prediction, rating)\n",
        "                \n",
        "                # don't update weights and rates when in 'val' phase\n",
        "                if training:\n",
        "                    loss.backward()\n",
        "                    optimizer.step()\n",
        "            running_loss+=loss.item()\n",
        "        epoch_loss = running_loss / dataset_sizes[phase]\n",
        "        stats[phase] = epoch_loss\n",
        "    print('[{epoch:03d}/{total:03d}] train: {train:.4f} - val: {val:.4f}'.format(**stats))\n"
      ],
      "metadata": {
        "colab": {
          "base_uri": "https://localhost:8080/"
        },
        "id": "7yNp1y1HrWiH",
        "outputId": "b9762808-caf6-484e-985a-f0111052776c"
      },
      "execution_count": null,
      "outputs": [
        {
          "output_type": "stream",
          "name": "stdout",
          "text": [
            "[001/010] train: 1.7992 - val: 1.1081\n",
            "[002/010] train: 1.2022 - val: 1.0245\n",
            "[003/010] train: 1.0851 - val: 0.9954\n",
            "[004/010] train: 1.0102 - val: 0.9740\n",
            "[005/010] train: 0.9629 - val: 0.9624\n",
            "[006/010] train: 0.9317 - val: 0.9634\n",
            "[007/010] train: 0.9086 - val: 0.9570\n",
            "[008/010] train: 0.8906 - val: 0.9651\n",
            "[009/010] train: 0.8745 - val: 0.9770\n",
            "[010/010] train: 0.8607 - val: 0.9691\n"
          ]
        }
      ]
    },
    {
      "cell_type": "code",
      "source": [
        "minmax = ratings_df.rating.astype(float).min(), ratings_df.rating.astype(float).max()\n",
        "minmax"
      ],
      "metadata": {
        "colab": {
          "base_uri": "https://localhost:8080/"
        },
        "id": "YlykRAEdXi9z",
        "outputId": "8a2d7893-7878-42d0-8ea2-57ed547601ad"
      },
      "execution_count": null,
      "outputs": [
        {
          "output_type": "execute_result",
          "data": {
            "text/plain": [
              "(1.0, 5.0)"
            ]
          },
          "metadata": {},
          "execution_count": 25
        }
      ]
    },
    {
      "cell_type": "code",
      "source": [
        "class CyclicLR(_LRScheduler):\n",
        "    \n",
        "    def __init__(self, optimizer, schedule, last_epoch=-1):\n",
        "        assert callable(schedule)\n",
        "        self.schedule = schedule\n",
        "        super().__init__(optimizer, last_epoch)\n",
        "\n",
        "    def get_lr(self):\n",
        "        return [self.schedule(self.last_epoch, lr) for lr in self.base_lrs]"
      ],
      "metadata": {
        "id": "sOA0Pdx4h_iD"
      },
      "execution_count": null,
      "outputs": []
    },
    {
      "cell_type": "code",
      "source": [
        "def triangular(step_size, max_lr, method='triangular', gamma=0.99):\n",
        "    \n",
        "    def scheduler(epoch, base_lr):\n",
        "        period = 2 * step_size\n",
        "        cycle = math.floor(1 + epoch/period)\n",
        "        x = abs(epoch/step_size - 2*cycle + 1)\n",
        "        delta = (max_lr - base_lr)*max(0, (1 - x))\n",
        "\n",
        "        if method == 'triangular':\n",
        "            pass  # we've already done\n",
        "        elif method == 'triangular2':\n",
        "            delta /= float(2 ** (cycle - 1))\n",
        "        elif method == 'exp_range':\n",
        "            delta *= (gamma**epoch)\n",
        "        else:\n",
        "            raise ValueError('unexpected method: %s' % method)\n",
        "            \n",
        "        return base_lr + delta\n",
        "        \n",
        "    return scheduler\n",
        "def cosine(t_max, eta_min=0):\n",
        "    \n",
        "    def scheduler(epoch, base_lr):\n",
        "        t = epoch % t_max\n",
        "        return eta_min + (base_lr - eta_min)*(1 + math.cos(math.pi*t/t_max))/2\n",
        "    \n",
        "    return scheduler\n",
        "def plot_lr(schedule):\n",
        "    ts = list(range(1000))\n",
        "    y = [schedule(t, 0.001) for t in ts]\n",
        "    plt.plot(ts, y)"
      ],
      "metadata": {
        "id": "qsrdDBz3iD3z"
      },
      "execution_count": null,
      "outputs": []
    },
    {
      "cell_type": "code",
      "source": [
        "n_users = ratings_df.u_id.nunique()\n",
        "n_movies = ratings_df.i_id.nunique()\n",
        "net = EmbeddingNet(\n",
        "    n_users=n_users, n_items=n_movies, \n",
        "    n_factors=150, hidden=[500, 500, 500], \n",
        "    embedding_dropout=0.05, dropouts=[0.5, 0.5, 0.25])"
      ],
      "metadata": {
        "id": "mZVOjZ-0YJDG"
      },
      "execution_count": null,
      "outputs": []
    },
    {
      "cell_type": "code",
      "source": [
        "lr = 1e-3\n",
        "wd = 1e-5\n",
        "bs = 50\n",
        "n_epochs = 100\n",
        "patience = 10\n",
        "no_improvements = 0\n",
        "best_loss = np.inf\n",
        "best_weights = None\n",
        "history = []\n",
        "lr_history = []\n",
        "\n",
        "device = torch.device('cuda:0' if torch.cuda.is_available() else 'cpu')\n",
        "\n",
        "net.to(device)\n",
        "criterion = nn.MSELoss(reduction='sum')\n",
        "optimizer = optim.Adam(net.parameters(), lr=lr, weight_decay=wd)\n",
        "iterations_per_epoch = int(math.ceil(dataset_sizes['train'] // bs))\n",
        "scheduler = CyclicLR(optimizer, cosine(t_max=iterations_per_epoch * 2, eta_min=lr/10))\n",
        "\n",
        "for epoch in range(n_epochs):\n",
        "    stats = {'epoch': epoch + 1, 'total': n_epochs}\n",
        "    \n",
        "    for phase in ('train', 'val'):\n",
        "        training = phase == 'train'\n",
        "        running_loss = 0.0\n",
        "        n_batches = 0\n",
        "        \n",
        "        for batch in batch_generator(*datasets[phase], shuffle=training, bs=bs):\n",
        "            x_batch, y_batch = [b.to(device) for b in batch]\n",
        "            optimizer.zero_grad()\n",
        "        \n",
        "            # compute gradients only during 'train' phase\n",
        "            with torch.set_grad_enabled(training):\n",
        "                outputs = net(x_batch[:, 0], x_batch[:, 1], minmax)\n",
        "                loss = criterion(outputs, y_batch)\n",
        "                \n",
        "                # don't update weights and rates when in 'val' phase\n",
        "                if training:\n",
        "                    scheduler.step()\n",
        "                    loss.backward()\n",
        "                    optimizer.step()\n",
        "                    lr_history.extend(scheduler.get_lr())\n",
        "                    \n",
        "            running_loss += loss.item()\n",
        "            \n",
        "        epoch_loss = running_loss / dataset_sizes[phase]\n",
        "        stats[phase] = epoch_loss\n",
        "        \n",
        "        # early stopping: save weights of the best model so far\n",
        "        if phase == 'val':\n",
        "            if epoch_loss < best_loss:\n",
        "                print('loss improvement on epoch: %d' % (epoch + 1))\n",
        "                best_loss = epoch_loss\n",
        "                best_weights = copy.deepcopy(net.state_dict())\n",
        "                no_improvements = 0\n",
        "            else:\n",
        "                no_improvements += 1\n",
        "                \n",
        "    history.append(stats)\n",
        "    print('[{epoch:03d}/{total:03d}] train: {train:.4f} - val: {val:.4f}'.format(**stats))\n",
        "    if no_improvements >= patience:\n",
        "        print('early stopping after epoch {epoch:03d}'.format(**stats))\n",
        "        break\n",
        "\n",
        "        \n",
        "        "
      ],
      "metadata": {
        "colab": {
          "base_uri": "https://localhost:8080/",
          "height": 467
        },
        "id": "VhesF-EGYPeM",
        "outputId": "8689fdc1-f380-4e17-9613-ef11d842c5de"
      },
      "execution_count": null,
      "outputs": [
        {
          "output_type": "stream",
          "name": "stdout",
          "text": [
            "loss improvement on epoch: 1\n",
            "[001/100] train: 1.3315 - val: 1.2745\n",
            "loss improvement on epoch: 2\n",
            "[002/100] train: 1.1957 - val: 1.2590\n",
            "[003/100] train: 1.2221 - val: 1.2639\n"
          ]
        },
        {
          "output_type": "error",
          "ename": "KeyboardInterrupt",
          "evalue": "ignored",
          "traceback": [
            "\u001b[0;31m---------------------------------------------------------------------------\u001b[0m",
            "\u001b[0;31mKeyboardInterrupt\u001b[0m                         Traceback (most recent call last)",
            "\u001b[0;32m<ipython-input-25-b53d9d4becfb>\u001b[0m in \u001b[0;36m<module>\u001b[0;34m\u001b[0m\n\u001b[1;32m     38\u001b[0m                 \u001b[0;32mif\u001b[0m \u001b[0mtraining\u001b[0m\u001b[0;34m:\u001b[0m\u001b[0;34m\u001b[0m\u001b[0;34m\u001b[0m\u001b[0m\n\u001b[1;32m     39\u001b[0m                     \u001b[0mscheduler\u001b[0m\u001b[0;34m.\u001b[0m\u001b[0mstep\u001b[0m\u001b[0;34m(\u001b[0m\u001b[0;34m)\u001b[0m\u001b[0;34m\u001b[0m\u001b[0;34m\u001b[0m\u001b[0m\n\u001b[0;32m---> 40\u001b[0;31m                     \u001b[0mloss\u001b[0m\u001b[0;34m.\u001b[0m\u001b[0mbackward\u001b[0m\u001b[0;34m(\u001b[0m\u001b[0;34m)\u001b[0m\u001b[0;34m\u001b[0m\u001b[0;34m\u001b[0m\u001b[0m\n\u001b[0m\u001b[1;32m     41\u001b[0m                     \u001b[0moptimizer\u001b[0m\u001b[0;34m.\u001b[0m\u001b[0mstep\u001b[0m\u001b[0;34m(\u001b[0m\u001b[0;34m)\u001b[0m\u001b[0;34m\u001b[0m\u001b[0;34m\u001b[0m\u001b[0m\n\u001b[1;32m     42\u001b[0m                     \u001b[0mlr_history\u001b[0m\u001b[0;34m.\u001b[0m\u001b[0mextend\u001b[0m\u001b[0;34m(\u001b[0m\u001b[0mscheduler\u001b[0m\u001b[0;34m.\u001b[0m\u001b[0mget_lr\u001b[0m\u001b[0;34m(\u001b[0m\u001b[0;34m)\u001b[0m\u001b[0;34m)\u001b[0m\u001b[0;34m\u001b[0m\u001b[0;34m\u001b[0m\u001b[0m\n",
            "\u001b[0;32m/usr/local/lib/python3.8/dist-packages/torch/_tensor.py\u001b[0m in \u001b[0;36mbackward\u001b[0;34m(self, gradient, retain_graph, create_graph, inputs)\u001b[0m\n\u001b[1;32m    485\u001b[0m                 \u001b[0minputs\u001b[0m\u001b[0;34m=\u001b[0m\u001b[0minputs\u001b[0m\u001b[0;34m,\u001b[0m\u001b[0;34m\u001b[0m\u001b[0;34m\u001b[0m\u001b[0m\n\u001b[1;32m    486\u001b[0m             )\n\u001b[0;32m--> 487\u001b[0;31m         torch.autograd.backward(\n\u001b[0m\u001b[1;32m    488\u001b[0m             \u001b[0mself\u001b[0m\u001b[0;34m,\u001b[0m \u001b[0mgradient\u001b[0m\u001b[0;34m,\u001b[0m \u001b[0mretain_graph\u001b[0m\u001b[0;34m,\u001b[0m \u001b[0mcreate_graph\u001b[0m\u001b[0;34m,\u001b[0m \u001b[0minputs\u001b[0m\u001b[0;34m=\u001b[0m\u001b[0minputs\u001b[0m\u001b[0;34m\u001b[0m\u001b[0;34m\u001b[0m\u001b[0m\n\u001b[1;32m    489\u001b[0m         )\n",
            "\u001b[0;32m/usr/local/lib/python3.8/dist-packages/torch/autograd/__init__.py\u001b[0m in \u001b[0;36mbackward\u001b[0;34m(tensors, grad_tensors, retain_graph, create_graph, grad_variables, inputs)\u001b[0m\n\u001b[1;32m    195\u001b[0m     \u001b[0;31m# some Python versions print out the first line of a multi-line function\u001b[0m\u001b[0;34m\u001b[0m\u001b[0;34m\u001b[0m\u001b[0;34m\u001b[0m\u001b[0m\n\u001b[1;32m    196\u001b[0m     \u001b[0;31m# calls in the traceback and some print out the last line\u001b[0m\u001b[0;34m\u001b[0m\u001b[0;34m\u001b[0m\u001b[0;34m\u001b[0m\u001b[0m\n\u001b[0;32m--> 197\u001b[0;31m     Variable._execution_engine.run_backward(  # Calls into the C++ engine to run the backward pass\n\u001b[0m\u001b[1;32m    198\u001b[0m         \u001b[0mtensors\u001b[0m\u001b[0;34m,\u001b[0m \u001b[0mgrad_tensors_\u001b[0m\u001b[0;34m,\u001b[0m \u001b[0mretain_graph\u001b[0m\u001b[0;34m,\u001b[0m \u001b[0mcreate_graph\u001b[0m\u001b[0;34m,\u001b[0m \u001b[0minputs\u001b[0m\u001b[0;34m,\u001b[0m\u001b[0;34m\u001b[0m\u001b[0;34m\u001b[0m\u001b[0m\n\u001b[1;32m    199\u001b[0m         allow_unreachable=True, accumulate_grad=True)  # Calls into the C++ engine to run the backward pass\n",
            "\u001b[0;31mKeyboardInterrupt\u001b[0m: "
          ]
        }
      ]
    },
    {
      "cell_type": "code",
      "source": [
        "ax = pd.DataFrame(history).drop(columns='total').plot(x='epoch')\n"
      ],
      "metadata": {
        "colab": {
          "base_uri": "https://localhost:8080/",
          "height": 282
        },
        "id": "K-OdFCbGbYhS",
        "outputId": "48abf90e-ca0b-46a6-9c28-aea6d4cd27f1"
      },
      "execution_count": null,
      "outputs": [
        {
          "output_type": "display_data",
          "data": {
            "text/plain": [
              "<Figure size 432x288 with 1 Axes>"
            ],
            "image/png": "[encoded data removed]"
          },
          "metadata": {}
        }
      ]
    }
  ]
}